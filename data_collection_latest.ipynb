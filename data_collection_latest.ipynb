{
 "cells": [
  {
   "cell_type": "code",
   "execution_count": null,
   "metadata": {},
   "outputs": [],
   "source": [
    "import pandas as pd\n",
    "from pymongo import MongoClient\n",
    "import requests\n",
    "import json"
   ]
  },
  {
   "cell_type": "code",
   "execution_count": 2,
   "metadata": {},
   "outputs": [
    {
     "data": {
      "text/plain": [
       "20"
      ]
     },
     "execution_count": 2,
     "metadata": {},
     "output_type": "execute_result"
    }
   ],
   "source": [
    "# create a MongoDB client instance\n",
    "client = MongoClient('mongodb://localhost:27017')\n",
    "\n",
    "# get a reference to the database\n",
    "db = client.mydatabase\n",
    "\n",
    "# get a reference to the collection\n",
    "collection = db.closing_prices_latest\n",
    "\n",
    "# define your Alpha Vantage API key and endpoint URL\n",
    "API_KEY = \"HMU3C6GSU9RRXY5Z\"\n",
    "url = \"https://www.alphavantage.co/query\"\n",
    "\n",
    "# define the symbol and data type to retrieve\n",
    "symbol = [\"AAPL\",\"PAYTM.BSE\"]\n",
    "data_type = \"TIME_SERIES_DAILY_ADJUSTED\""
   ]
  },
  {
   "cell_type": "code",
   "execution_count": null,
   "metadata": {},
   "outputs": [],
   "source": [
    "# append new data to the collection\n",
    "def updateDocument(symbol):\n",
    "    for i in range(len(symbol)):\n",
    "            # define the API parameters\n",
    "        params = {\n",
    "            \"function\": data_type,\n",
    "            \"symbol\": symbol[i],\n",
    "            \"apikey\": API_KEY\n",
    "        }\n",
    "        # make a request to the Alpha Vantage API\n",
    "        response = requests.get(url, params=params)\n",
    "\n",
    "        # convert the response data to a Python dictionary\n",
    "        data = json.loads(response.text)\n",
    "\n",
    "        # get the latest timestamp in the collection, if any\n",
    "        latest_timestamp = collection.find_one(sort=[(\"timestamp\", -1)])[\"timestamp\"] if collection.count_documents({}) > 0 else None\n",
    "\n",
    "        for date, values in data[\"Time Series (Daily)\"].items():\n",
    "            timestamp = pd.to_datetime(date)\n",
    "            if latest_timestamp is None or timestamp > latest_timestamp:\n",
    "                document = {\n",
    "                    \"symbol\": symbol[1],\n",
    "                    \"timestamp\": timestamp,\n",
    "                    \"close\": float(values[\"4. close\"])\n",
    "                }\n",
    "                collection.update_one({\"timestamp\": timestamp}, {\"$set\": document}, upsert=True)"
   ]
  },
  {
   "cell_type": "code",
   "execution_count": null,
   "metadata": {},
   "outputs": [],
   "source": [
    "# query = \"{ qty: { $gt: 4 } }\"  # define your query here if necessary\n",
    "\n",
    "results = collection.find( { \"symbol\": symbol[1] ,\"close\" :{ \"$gt\": 150} } )\n",
    "\n",
    "df = pd.DataFrame(list(results))\n",
    "\n",
    "print(df)"
   ]
  }
 ],
 "metadata": {
  "kernelspec": {
   "display_name": "Python 3",
   "language": "python",
   "name": "python3"
  },
  "language_info": {
   "codemirror_mode": {
    "name": "ipython",
    "version": 3
   },
   "file_extension": ".py",
   "mimetype": "text/x-python",
   "name": "python",
   "nbconvert_exporter": "python",
   "pygments_lexer": "ipython3",
   "version": "3.11.1"
  },
  "orig_nbformat": 4
 },
 "nbformat": 4,
 "nbformat_minor": 2
}
