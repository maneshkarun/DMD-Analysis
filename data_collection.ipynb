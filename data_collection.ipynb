{
 "cells": [
  {
   "cell_type": "code",
   "execution_count": 20,
   "metadata": {},
   "outputs": [],
   "source": [
    "import pandas as pd\n",
    "from pymongo import MongoClient\n",
    "import requests\n",
    "import json"
   ]
  },
  {
   "cell_type": "code",
   "execution_count": 21,
   "metadata": {},
   "outputs": [],
   "source": [
    "client = MongoClient('mongodb://localhost:27017')\n",
    "db = client.mydatabase\n",
    "collection = db.mycollection"
   ]
  },
  {
   "cell_type": "code",
   "execution_count": 22,
   "metadata": {},
   "outputs": [
    {
     "data": {
      "text/plain": [
       "<pymongo.results.InsertOneResult at 0x1e2484bcbb0>"
      ]
     },
     "execution_count": 22,
     "metadata": {},
     "output_type": "execute_result"
    }
   ],
   "source": [
    "API_KEY = 'HMU3C6GSU9RRXY5Z'\n",
    "url = f'https://www.alphavantage.co/query?function=TIME_SERIES_DAILY_ADJUSTED&symbol=IBM&apikey={API_KEY}'\n",
    "r = requests.get(url)\n",
    "data = r.json()\n",
    "collection.insert_one(data['Time Series (Daily)'])"
   ]
  },
  {
   "cell_type": "code",
   "execution_count": 23,
   "metadata": {},
   "outputs": [],
   "source": [
    "# create a MongoDB client instance\n",
    "# client = MongoClient()\n",
    "\n",
    "# get a reference to the database\n",
    "db = client.mydatabase\n",
    "\n",
    "# get a reference to the collection\n",
    "collection = db.closing_prices\n",
    "\n",
    "# define your Alpha Vantage API key and endpoint URL\n",
    "api_key = \"YOUR_API_KEY\"\n",
    "url = \"https://www.alphavantage.co/query\"\n",
    "\n",
    "# define the symbol and data type to retrieve\n",
    "symbol = \"AAPL\"\n",
    "data_type = \"TIME_SERIES_DAILY_ADJUSTED\"\n",
    "\n",
    "# define the API parameters\n",
    "params = {\n",
    "    \"function\": data_type,\n",
    "    \"symbol\": symbol,\n",
    "    \"apikey\": api_key\n",
    "}\n",
    "\n",
    "# make a request to the Alpha Vantage API\n",
    "response = requests.get(url, params=params)\n",
    "\n",
    "# convert the response data to a Python dictionary\n",
    "data = json.loads(response.text)\n",
    "\n",
    "# insert each day's closing price as a separate document\n",
    "for date, values in data[\"Time Series (Daily)\"].items():\n",
    "    document = {\n",
    "        \"symbol\": symbol,\n",
    "        \"timestamp\": pd.to_datetime(date),\n",
    "        \"close\": float(values[\"4. close\"])\n",
    "    }\n",
    "    collection.insert_one(document)\n"
   ]
  }
 ],
 "metadata": {
  "kernelspec": {
   "display_name": "Python 3",
   "language": "python",
   "name": "python3"
  },
  "language_info": {
   "codemirror_mode": {
    "name": "ipython",
    "version": 3
   },
   "file_extension": ".py",
   "mimetype": "text/x-python",
   "name": "python",
   "nbconvert_exporter": "python",
   "pygments_lexer": "ipython3",
   "version": "3.11.1"
  },
  "orig_nbformat": 4
 },
 "nbformat": 4,
 "nbformat_minor": 2
}
