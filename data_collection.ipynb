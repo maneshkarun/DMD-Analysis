{
 "cells": [
  {
   "cell_type": "code",
   "execution_count": 115,
   "metadata": {},
   "outputs": [],
   "source": [
    "import pandas as pd\n",
    "from pymongo import MongoClient\n",
    "import requests\n",
    "import json"
   ]
  },
  {
   "cell_type": "code",
   "execution_count": 116,
   "metadata": {},
   "outputs": [],
   "source": [
    "# create a MongoDB client instance\n",
    "client = MongoClient('mongodb://localhost:27017')\n",
    "\n",
    "# get a reference to the database\n",
    "db = client.mydatabase\n",
    "\n",
    "# get a reference to the collection\n",
    "collection = db.closing_prices_latest\n",
    "\n",
    "# define your Alpha Vantage API key and endpoint URL\n",
    "api_key = \"HMU3C6GSU9RRXY5Z\"\n",
    "url = \"https://www.alphavantage.co/query\"\n",
    "\n",
    "# define the symbol and data type to retrieve\n",
    "symbol = [\"AAPL\",\"PAYTM.BSE\"]\n",
    "data_type = \"TIME_SERIES_DAILY_ADJUSTED\"\n",
    "\n",
    "# define the API parameters\n",
    "params = {\n",
    "    \"function\": data_type,\n",
    "    \"symbol\": symbol[1],\n",
    "    \"apikey\": api_key\n",
    "}"
   ]
  },
  {
   "cell_type": "code",
   "execution_count": 117,
   "metadata": {},
   "outputs": [],
   "source": [
    "# make a request to the Alpha Vantage API\n",
    "response = requests.get(url, params=params)\n",
    "\n",
    "# convert the response data to a Python dictionary\n",
    "data = json.loads(response.text)"
   ]
  },
  {
   "cell_type": "code",
   "execution_count": 118,
   "metadata": {},
   "outputs": [],
   "source": [
    "# insert each day's closing price as a separate document\n",
    "for date, values in data[\"Time Series (Daily)\"].items():\n",
    "    document = {\n",
    "        \"symbol\": symbol[1],\n",
    "        \"timestamp\": pd.to_datetime(date),\n",
    "        \"close\": float(values[\"4. close\"])\n",
    "    }\n",
    "    collection.insert_one(document)"
   ]
  },
  {
   "cell_type": "code",
   "execution_count": 119,
   "metadata": {},
   "outputs": [],
   "source": [
    "# make a request to the Alpha Vantage API\n",
    "response = requests.get(url, params=params)\n",
    "\n",
    "# convert the response data to a Python dictionary\n",
    "data = json.loads(response.text)"
   ]
  },
  {
   "cell_type": "code",
   "execution_count": 120,
   "metadata": {},
   "outputs": [],
   "source": [
    "# get the latest timestamp in the collection, if any\n",
    "latest_timestamp = collection.find_one(sort=[(\"timestamp\", -1)])[\"timestamp\"] if collection.count_documents({}) > 0 else None"
   ]
  },
  {
   "cell_type": "code",
   "execution_count": 121,
   "metadata": {},
   "outputs": [],
   "source": [
    "# append new data to the collection\n",
    "for date, values in data[\"Time Series (Daily)\"].items():\n",
    "    timestamp = pd.to_datetime(date)\n",
    "    if latest_timestamp is None or timestamp > latest_timestamp:\n",
    "        document = {\n",
    "            \"symbol\": symbol[1],\n",
    "            \"timestamp\": timestamp,\n",
    "            \"close\": float(values[\"4. close\"])\n",
    "        }\n",
    "        collection.update_one({\"timestamp\": timestamp}, {\"$set\": document}, upsert=True)"
   ]
  },
  {
   "cell_type": "code",
   "execution_count": 122,
   "metadata": {},
   "outputs": [
    {
     "name": "stdout",
     "output_type": "stream",
     "text": [
      "                         _id     symbol  timestamp   close\n",
      "0   640b6070c95cf5831a629ce0  PAYTM.BSE 2023-03-09  606.25\n",
      "1   640b6070c95cf5831a629ce1  PAYTM.BSE 2023-03-08  620.40\n",
      "2   640b6070c95cf5831a629ce2  PAYTM.BSE 2023-03-06  625.30\n",
      "3   640b6070c95cf5831a629ce3  PAYTM.BSE 2023-03-03  628.05\n",
      "4   640b6070c95cf5831a629ce4  PAYTM.BSE 2023-03-02  604.45\n",
      "..                       ...        ...        ...     ...\n",
      "95  640b6070c95cf5831a629d3f  PAYTM.BSE 2022-10-21  629.40\n",
      "96  640b6070c95cf5831a629d40  PAYTM.BSE 2022-10-20  632.85\n",
      "97  640b6070c95cf5831a629d41  PAYTM.BSE 2022-10-19  652.40\n",
      "98  640b6070c95cf5831a629d42  PAYTM.BSE 2022-10-18  662.90\n",
      "99  640b6070c95cf5831a629d43  PAYTM.BSE 2022-10-17  672.70\n",
      "\n",
      "[100 rows x 4 columns]\n"
     ]
    }
   ],
   "source": [
    "# query = \"{ qty: { $gt: 4 } }\"  # define your query here if necessary\n",
    "\n",
    "results = collection.find( { \"symbol\": symbol[1] ,\"close\" :{ \"$gt\": 150} } )\n",
    "\n",
    "df = pd.DataFrame(list(results))\n",
    "\n",
    "print(df)"
   ]
  }
 ],
 "metadata": {
  "kernelspec": {
   "display_name": "Python 3",
   "language": "python",
   "name": "python3"
  },
  "language_info": {
   "codemirror_mode": {
    "name": "ipython",
    "version": 3
   },
   "file_extension": ".py",
   "mimetype": "text/x-python",
   "name": "python",
   "nbconvert_exporter": "python",
   "pygments_lexer": "ipython3",
   "version": "3.11.1"
  },
  "orig_nbformat": 4
 },
 "nbformat": 4,
 "nbformat_minor": 2
}
